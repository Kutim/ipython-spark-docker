{
 "cells": [
  {
   "cell_type": "code",
   "execution_count": 3,
   "metadata": {
    "collapsed": true
   },
   "outputs": [],
   "source": [
    "# import modules\n",
    "from pyspark import SparkContext, SparkConf\n",
    "import os, sys, getopt\n",
    "import xml.etree.ElementTree as ET\n",
    "\n",
    "import pandas as pd\n",
    "from pandas import Series, DataFrame"
   ]
  },
  {
   "cell_type": "code",
   "execution_count": 4,
   "metadata": {
    "collapsed": false
   },
   "outputs": [
    {
     "name": "stdout",
     "output_type": "stream",
     "text": [
      "SLF4J: Failed to load class \"org.slf4j.impl.StaticLoggerBinder\".\n",
      "SLF4J: Defaulting to no-operation (NOP) logger implementation\n",
      "SLF4J: See http://www.slf4j.org/codes.html#StaticLoggerBinder for further details.\n",
      "Found 3 items\n",
      "-rw-r--r--   3 root     supergroup  252761350 2015-07-17 20:12 /spark/spark-1.3.0-bin-hadoop2.4.tgz\n",
      "-rw-r--r--   3 root     supergroup  259384921 2015-07-17 20:11 /spark/spark-1.3.1-bin-hadoop2.6.tgz\n",
      "-rw-r--r--   3 guest    supergroup  245061043 2015-07-15 22:36 /spark/spark-1.4.1-bin-hadoop2.4.tgz\n"
     ]
    }
   ],
   "source": [
    "# verify spark binary in HDFS\n",
    "!hadoop fs -ls /spark"
   ]
  },
  {
   "cell_type": "code",
   "execution_count": 5,
   "metadata": {
    "collapsed": false
   },
   "outputs": [],
   "source": [
    "# update SparkContext to use HDFS Spark binary\n",
    "# TODO: setup this portion to configure on server startup\n",
    "from pyspark import SparkConf, SparkContext\n",
    "sc.stop()\n",
    "conf = (SparkConf()\n",
    "         .setMaster(\"mesos://mesos-master-fqdn:5050\")\n",
    "         .setAppName(\"Calculate Pi\")\n",
    "         .set(\"spark.executor.uri\", \"hdfs:///spark/spark-1.3.0-bin-hadoop2.4.tgz\"))\n",
    "sc = SparkContext(conf = conf)"
   ]
  },
  {
   "cell_type": "code",
   "execution_count": 6,
   "metadata": {
    "collapsed": false
   },
   "outputs": [
    {
     "name": "stdout",
     "output_type": "stream",
     "text": [
      "Pi is roughly 3.036000\n"
     ]
    }
   ],
   "source": [
    "# simple example to test Spark job\n",
    "from random import *\n",
    "\n",
    "def sample(p):\n",
    "    x, y = random(), random()\n",
    "    return 1 if x*x + y*y < 1 else 0\n",
    "\n",
    "# estimate Pi\n",
    "NUM_SAMPLES=1000\n",
    "count = sc.parallelize(xrange(0, NUM_SAMPLES)).map(sample).reduce(lambda a, b: a + b)\n",
    "print \"Pi is roughly %f\" % (4.0 * count / NUM_SAMPLES)"
   ]
  }
 ],
 "metadata": {
  "kernelspec": {
   "display_name": "Python 2",
   "language": "python",
   "name": "python2"
  },
  "language_info": {
   "codemirror_mode": {
    "name": "ipython",
    "version": 2
   },
   "file_extension": ".py",
   "mimetype": "text/x-python",
   "name": "python",
   "nbconvert_exporter": "python",
   "pygments_lexer": "ipython2",
   "version": "2.7.6"
  }
 },
 "nbformat": 4,
 "nbformat_minor": 0
}
